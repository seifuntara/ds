{
 "cells": [
  {
   "cell_type": "markdown",
   "metadata": {
    "collapsed": true
   },
   "source": [
    "# Project 1: Popular Apps\n",
    "## Python (Fundamentals)\n",
    "\n",
    "In this project, we will analyze most popular genre/category on both free and paid apps on apple store and google play store using Python.\n",
    "\n",
    "Datasets used in this project :\n",
    "* [Apple Store](https://www.kaggle.com/ramamet4/app-store-apple-data-set-10k-apps/version/2)\n",
    "* [Google Play Store](https://www.kaggle.com/lava18/google-play-store-apps)\n",
    "\n"
   ]
  },
  {
   "cell_type": "markdown",
   "metadata": {},
   "source": [
    "We will first import data and use a simple function to peek to information of of the datasets :"
   ]
  },
  {
   "cell_type": "code",
   "execution_count": 1,
   "metadata": {},
   "outputs": [],
   "source": [
    "from csv import reader"
   ]
  },
  {
   "cell_type": "code",
   "execution_count": 2,
   "metadata": {},
   "outputs": [],
   "source": [
    "opened_file = open('AppleStore.csv',encoding='utf8')\n",
    "read_file = reader(opened_file)\n",
    "apple = list(read_file)\n",
    "\n",
    "opened_file = open('googleplaystore.csv',encoding='utf8')\n",
    "read_file = reader(opened_file)\n",
    "google = list(read_file)"
   ]
  },
  {
   "cell_type": "code",
   "execution_count": 3,
   "metadata": {},
   "outputs": [],
   "source": [
    "def peek_data(dataset, start, end, rows_and_columns=False):\n",
    "    dataset_slice = dataset[start:end]    \n",
    "    for row in dataset_slice:\n",
    "        print(row)\n",
    "        print('\\n') # adds a new (empty) line after each row\n",
    "\n",
    "    if rows_and_columns:\n",
    "        print('Number of rows:', len(dataset))\n",
    "        print('Number of columns:', len(dataset[0]))"
   ]
  },
  {
   "cell_type": "code",
   "execution_count": 4,
   "metadata": {
    "scrolled": true
   },
   "outputs": [
    {
     "name": "stdout",
     "output_type": "stream",
     "text": [
      "['284882215', 'Facebook', '389879808', 'USD', '0.0', '2974676', '212', '3.5', '3.5', '95.0', '4+', 'Social Networking', '37', '1', '29', '1']\n",
      "\n",
      "\n",
      "['389801252', 'Instagram', '113954816', 'USD', '0.0', '2161558', '1289', '4.5', '4.0', '10.23', '12+', 'Photo & Video', '37', '0', '29', '1']\n",
      "\n",
      "\n",
      "Number of rows: 7198\n",
      "Number of columns: 16\n"
     ]
    }
   ],
   "source": [
    "peek_data(apple,1,3,True)"
   ]
  },
  {
   "cell_type": "code",
   "execution_count": 5,
   "metadata": {
    "scrolled": true
   },
   "outputs": [
    {
     "name": "stdout",
     "output_type": "stream",
     "text": [
      "['Photo Editor & Candy Camera & Grid & ScrapBook', 'ART_AND_DESIGN', '4.1', '159', '19M', '10,000+', 'Free', '0', 'Everyone', 'Art & Design', 'January 7, 2018', '1.0.0', '4.0.3 and up']\n",
      "\n",
      "\n",
      "['Coloring book moana', 'ART_AND_DESIGN', '3.9', '967', '14M', '500,000+', 'Free', '0', 'Everyone', 'Art & Design;Pretend Play', 'January 15, 2018', '2.0.0', '4.0.3 and up']\n",
      "\n",
      "\n",
      "Number of rows: 10842\n",
      "Number of columns: 13\n"
     ]
    }
   ],
   "source": [
    "peek_data(google,1,3,True)"
   ]
  },
  {
   "cell_type": "markdown",
   "metadata": {},
   "source": [
    "We will start by cleaning the datas first, by deleting rows with missing datas :"
   ]
  },
  {
   "cell_type": "code",
   "execution_count": 6,
   "metadata": {},
   "outputs": [],
   "source": [
    "def del_missing_datas(dataset,exist=False):\n",
    "    for row in dataset[1:]:\n",
    "        if len(row)!=len(dataset[0]):\n",
    "            exist=True\n",
    "            missing=dataset.index(row)\n",
    "            print('Deleted Row:',missing)\n",
    "            del dataset[missing]\n",
    "    if exist==False:\n",
    "        print('No Deleted Row')"
   ]
  },
  {
   "cell_type": "code",
   "execution_count": 7,
   "metadata": {},
   "outputs": [
    {
     "name": "stdout",
     "output_type": "stream",
     "text": [
      "No Deleted Row\n"
     ]
    }
   ],
   "source": [
    "del_missing_datas(apple)"
   ]
  },
  {
   "cell_type": "code",
   "execution_count": 8,
   "metadata": {
    "scrolled": true
   },
   "outputs": [
    {
     "name": "stdout",
     "output_type": "stream",
     "text": [
      "Deleted Row: 10473\n"
     ]
    }
   ],
   "source": [
    "del_missing_datas(google)"
   ]
  },
  {
   "cell_type": "markdown",
   "metadata": {},
   "source": [
    "Previously knwon that the google play store datasets have multiple rows with the same name, so we will only select the row with the most reviews :"
   ]
  },
  {
   "cell_type": "code",
   "execution_count": 9,
   "metadata": {},
   "outputs": [],
   "source": [
    "google_unique=[]"
   ]
  },
  {
   "cell_type": "code",
   "execution_count": 10,
   "metadata": {},
   "outputs": [],
   "source": [
    "def clean_duplicates(old_list,clean_list):\n",
    "    apps=['Header']\n",
    "    clean_list.append(old_list[0])\n",
    "    for row in old_list[1:]:\n",
    "        if row[0] not in apps:\n",
    "            clean_list.append(row)\n",
    "            apps.append(row[0])      \n",
    "        elif int(row[3])>int(clean_list[apps.index(row[0])][3]):\n",
    "            clean_list[apps.index(row[0])]=row\n",
    "    \n",
    "    print('Number of Rows:',len(clean_list))"
   ]
  },
  {
   "cell_type": "code",
   "execution_count": 11,
   "metadata": {},
   "outputs": [
    {
     "name": "stdout",
     "output_type": "stream",
     "text": [
      "Number of Rows: 9660\n"
     ]
    }
   ],
   "source": [
    "clean_duplicates(google,google_unique)"
   ]
  },
  {
   "cell_type": "markdown",
   "metadata": {},
   "source": [
    "We will also only select English Apps (Name with less than 3 non-english characters) :"
   ]
  },
  {
   "cell_type": "code",
   "execution_count": 114,
   "metadata": {},
   "outputs": [],
   "source": [
    "eng_apple=[]\n",
    "eng_google=[]"
   ]
  },
  {
   "cell_type": "code",
   "execution_count": 13,
   "metadata": {},
   "outputs": [],
   "source": [
    "def select_eng(old_list,eng_list,name):\n",
    "    eng_list.append(old_list[0])\n",
    "    for row in old_list[1:]:\n",
    "        count=0\n",
    "        for char in row[name]:\n",
    "            if ord(char)>127:\n",
    "                count+=1\n",
    "        if count<=3:\n",
    "            eng_list.append(row)\n",
    "    \n",
    "    print('Number of Rows:',len(eng_list))"
   ]
  },
  {
   "cell_type": "code",
   "execution_count": 14,
   "metadata": {
    "scrolled": true
   },
   "outputs": [
    {
     "name": "stdout",
     "output_type": "stream",
     "text": [
      "Number of Rows: 6184\n"
     ]
    }
   ],
   "source": [
    "select_eng(apple,eng_apple,name=1)"
   ]
  },
  {
   "cell_type": "code",
   "execution_count": 15,
   "metadata": {
    "scrolled": true
   },
   "outputs": [
    {
     "name": "stdout",
     "output_type": "stream",
     "text": [
      "Number of Rows: 9615\n"
     ]
    }
   ],
   "source": [
    "select_eng(google_unique,eng_google,name=0)"
   ]
  },
  {
   "cell_type": "markdown",
   "metadata": {},
   "source": [
    "As we finished cleaning the data, we will start seperating the free and paid apps :"
   ]
  },
  {
   "cell_type": "code",
   "execution_count": 16,
   "metadata": {},
   "outputs": [],
   "source": [
    "free_apple=[]\n",
    "free_google=[]\n",
    "nfree_apple=[]\n",
    "nfree_google=[]"
   ]
  },
  {
   "cell_type": "code",
   "execution_count": 17,
   "metadata": {},
   "outputs": [],
   "source": [
    "def free_apps(old_list,free_list,nfree_list,price):\n",
    "    free_list.append(old_list[0])\n",
    "    nfree_list.append(old_list[0])\n",
    "    for row in old_list[1:]:\n",
    "        if row[price]=='0.0' or row[price]=='0':\n",
    "            free_list.append(row)\n",
    "        else:\n",
    "            nfree_list.append(row)\n",
    "    \n",
    "    print('Number of Rows (free):',len(free_list))\n",
    "    print('Number of Rows (non_free):',len(nfree_list))"
   ]
  },
  {
   "cell_type": "code",
   "execution_count": 18,
   "metadata": {},
   "outputs": [
    {
     "name": "stdout",
     "output_type": "stream",
     "text": [
      "Number of Rows (free): 3223\n",
      "Number of Rows (non_free): 2962\n"
     ]
    }
   ],
   "source": [
    "free_apps(eng_apple,free_apple,nfree_apple,4)"
   ]
  },
  {
   "cell_type": "code",
   "execution_count": 19,
   "metadata": {
    "scrolled": true
   },
   "outputs": [
    {
     "name": "stdout",
     "output_type": "stream",
     "text": [
      "Number of Rows (free): 8865\n",
      "Number of Rows (non_free): 751\n"
     ]
    }
   ],
   "source": [
    "free_apps(eng_google,free_google,nfree_google,7)"
   ]
  },
  {
   "cell_type": "markdown",
   "metadata": {},
   "source": [
    "Finally, using functions below, we will analyze and conclude the percentage of most installed/reviewed apps by genres :"
   ]
  },
  {
   "cell_type": "code",
   "execution_count": 105,
   "metadata": {},
   "outputs": [],
   "source": [
    "def insight_table(dataset,index,tot):\n",
    "    d1={}\n",
    "    for row in dataset[1:]:\n",
    "        x=int((row[tot].replace(',','')).replace('+',''))\n",
    "        if row[index] in d1:\n",
    "            d1[row[index]]+=int((row[tot].replace(',','')).replace('+',''))\n",
    "        else:\n",
    "            d1[row[index]]=int((row[tot].replace(',','')).replace('+',''))\n",
    "     \n",
    "    return d1"
   ]
  },
  {
   "cell_type": "code",
   "execution_count": 106,
   "metadata": {},
   "outputs": [],
   "source": [
    "def display_table(dataset, index, tot):\n",
    "    table = insight_table(dataset, index, tot)\n",
    "    table_display = []\n",
    "    for key in table:\n",
    "        key_val_as_tuple = (table[key], key)\n",
    "        table_display.append(key_val_as_tuple)\n",
    "\n",
    "    table_sorted = sorted(table_display, reverse = True)\n",
    "    totsum = sum([row[0] for row in table_sorted])\n",
    "    for entry in table_sorted:\n",
    "        print(entry[1], ':', round(((entry[0]*100)/totsum),2),'%')"
   ]
  },
  {
   "cell_type": "markdown",
   "metadata": {},
   "source": [
    "Result for free apps on apple store:"
   ]
  },
  {
   "cell_type": "code",
   "execution_count": 107,
   "metadata": {
    "scrolled": true
   },
   "outputs": [
    {
     "name": "stdout",
     "output_type": "stream",
     "text": [
      "Games : 53.39 %\n",
      "Social Networking : 9.48 %\n",
      "Photo & Video : 5.69 %\n",
      "Music : 4.73 %\n",
      "Entertainment : 4.46 %\n",
      "Shopping : 2.83 %\n",
      "Sports : 1.98 %\n",
      "Health & Fitness : 1.89 %\n",
      "Utilities : 1.89 %\n",
      "Weather : 1.83 %\n",
      "Reference : 1.69 %\n",
      "Productivity : 1.47 %\n",
      "Finance : 1.42 %\n",
      "Travel : 1.41 %\n",
      "News : 1.14 %\n",
      "Food & Drink : 1.08 %\n",
      "Lifestyle : 1.05 %\n",
      "Education : 1.03 %\n",
      "Book : 0.7 %\n",
      "Navigation : 0.65 %\n",
      "Business : 0.16 %\n",
      "Catalogs : 0.02 %\n",
      "Medical : 0.0 %\n"
     ]
    }
   ],
   "source": [
    "display_table(free_apple,-5,5)"
   ]
  },
  {
   "cell_type": "markdown",
   "metadata": {},
   "source": [
    "Result for non free apps on apple store:"
   ]
  },
  {
   "cell_type": "code",
   "execution_count": 108,
   "metadata": {},
   "outputs": [
    {
     "name": "stdout",
     "output_type": "stream",
     "text": [
      "Games : 80.16 %\n",
      "Photo & Video : 3.61 %\n",
      "Entertainment : 3.28 %\n",
      "Health & Fitness : 2.11 %\n",
      "Productivity : 1.99 %\n",
      "Music : 1.54 %\n",
      "Education : 1.48 %\n",
      "Utilities : 1.38 %\n",
      "Business : 1.15 %\n",
      "Weather : 1.05 %\n",
      "Reference : 0.66 %\n",
      "News : 0.43 %\n",
      "Lifestyle : 0.34 %\n",
      "Navigation : 0.2 %\n",
      "Book : 0.1 %\n",
      "Travel : 0.1 %\n",
      "Finance : 0.09 %\n",
      "Food & Drink : 0.08 %\n",
      "Medical : 0.08 %\n",
      "Sports : 0.07 %\n",
      "Social Networking : 0.06 %\n",
      "Shopping : 0.02 %\n",
      "Catalogs : 0.01 %\n"
     ]
    }
   ],
   "source": [
    "display_table(nfree_apple,-5,5)"
   ]
  },
  {
   "cell_type": "markdown",
   "metadata": {},
   "source": [
    "Result for free apps on google play store:"
   ]
  },
  {
   "cell_type": "code",
   "execution_count": 112,
   "metadata": {
    "scrolled": true
   },
   "outputs": [
    {
     "name": "stdout",
     "output_type": "stream",
     "text": [
      "GAME : 17.86 %\n",
      "COMMUNICATION : 14.67 %\n",
      "TOOLS : 10.77 %\n",
      "FAMILY : 8.23 %\n",
      "PRODUCTIVITY : 7.7 %\n",
      "SOCIAL : 7.29 %\n",
      "PHOTOGRAPHY : 6.19 %\n",
      "VIDEO_PLAYERS : 5.22 %\n",
      "TRAVEL_AND_LOCAL : 3.85 %\n",
      "NEWS_AND_MAGAZINES : 3.15 %\n",
      "BOOKS_AND_REFERENCE : 2.21 %\n",
      "PERSONALIZATION : 2.03 %\n",
      "SHOPPING : 1.86 %\n",
      "HEALTH_AND_FITNESS : 1.52 %\n",
      "SPORTS : 1.46 %\n",
      "ENTERTAINMENT : 1.31 %\n",
      "BUSINESS : 0.93 %\n",
      "MAPS_AND_NAVIGATION : 0.67 %\n",
      "LIFESTYLE : 0.66 %\n",
      "FINANCE : 0.6 %\n",
      "WEATHER : 0.48 %\n",
      "FOOD_AND_DRINK : 0.28 %\n",
      "EDUCATION : 0.25 %\n",
      "DATING : 0.19 %\n",
      "ART_AND_DESIGN : 0.15 %\n",
      "HOUSE_AND_HOME : 0.13 %\n",
      "AUTO_AND_VEHICLES : 0.07 %\n",
      "LIBRARIES_AND_DEMO : 0.07 %\n",
      "COMICS : 0.06 %\n",
      "MEDICAL : 0.05 %\n",
      "PARENTING : 0.04 %\n",
      "BEAUTY : 0.04 %\n",
      "EVENTS : 0.02 %\n"
     ]
    }
   ],
   "source": [
    "display_table(free_google,1,5)"
   ]
  },
  {
   "cell_type": "markdown",
   "metadata": {},
   "source": [
    "Result for non free apps on google play store:"
   ]
  },
  {
   "cell_type": "code",
   "execution_count": 113,
   "metadata": {
    "scrolled": true
   },
   "outputs": [
    {
     "name": "stdout",
     "output_type": "stream",
     "text": [
      "FAMILY : 36.87 %\n",
      "GAME : 36.61 %\n",
      "PERSONALIZATION : 5.68 %\n",
      "PHOTOGRAPHY : 3.28 %\n",
      "TOOLS : 3.01 %\n",
      "PRODUCTIVITY : 2.46 %\n",
      "COMMUNICATION : 2.37 %\n",
      "SPORTS : 2.17 %\n",
      "LIFESTYLE : 2.06 %\n",
      "WEATHER : 1.42 %\n",
      "MEDICAL : 0.98 %\n",
      "HEALTH_AND_FITNESS : 0.83 %\n",
      "BUSINESS : 0.37 %\n",
      "ENTERTAINMENT : 0.35 %\n",
      "FINANCE : 0.32 %\n",
      "TRAVEL_AND_LOCAL : 0.32 %\n",
      "MAPS_AND_NAVIGATION : 0.21 %\n",
      "EDUCATION : 0.18 %\n",
      "VIDEO_PLAYERS : 0.12 %\n",
      "FOOD_AND_DRINK : 0.1 %\n",
      "PARENTING : 0.09 %\n",
      "AUTO_AND_VEHICLES : 0.09 %\n",
      "BOOKS_AND_REFERENCE : 0.04 %\n",
      "ART_AND_DESIGN : 0.03 %\n",
      "DATING : 0.02 %\n",
      "SHOPPING : 0.02 %\n",
      "SOCIAL : 0.01 %\n",
      "NEWS_AND_MAGAZINES : 0.01 %\n",
      "LIBRARIES_AND_DEMO : 0.0 %\n",
      "EVENTS : 0.0 %\n"
     ]
    }
   ],
   "source": [
    "display_table(nfree_google,1,5)"
   ]
  },
  {
   "cell_type": "markdown",
   "metadata": {},
   "source": [
    "End. Thankyou!"
   ]
  }
 ],
 "metadata": {
  "kernelspec": {
   "display_name": "Python 3",
   "language": "python",
   "name": "python3"
  },
  "language_info": {
   "codemirror_mode": {
    "name": "ipython",
    "version": 3
   },
   "file_extension": ".py",
   "mimetype": "text/x-python",
   "name": "python",
   "nbconvert_exporter": "python",
   "pygments_lexer": "ipython3",
   "version": "3.7.3"
  }
 },
 "nbformat": 4,
 "nbformat_minor": 2
}
